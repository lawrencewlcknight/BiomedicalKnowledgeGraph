{
 "cells": [
  {
   "cell_type": "markdown",
   "id": "b28113d1",
   "metadata": {},
   "source": [
    "# Biomedical Knowledge Graph"
   ]
  },
  {
   "cell_type": "markdown",
   "id": "a3687ddc",
   "metadata": {},
   "source": [
    "Source\n",
    "\n",
    "https://towardsdatascience.com/construct-a-biomedical-knowledge-graph-with-nlp-1f25eddc54a0"
   ]
  },
  {
   "cell_type": "markdown",
   "id": "8b2c6c65",
   "metadata": {},
   "source": [
    "## Reading a PDF document with OCR"
   ]
  },
  {
   "cell_type": "code",
   "execution_count": 2,
   "id": "f1304dba",
   "metadata": {},
   "outputs": [],
   "source": [
    "import requests\n",
    "import pdf2image\n",
    "import pytesseract"
   ]
  },
  {
   "cell_type": "code",
   "execution_count": 3,
   "id": "3e95385a",
   "metadata": {},
   "outputs": [],
   "source": [
    "pdf = requests.get('https://arxiv.org/pdf/2110.03526.pdf')\n",
    "doc = pdf2image.convert_from_bytes(pdf.content)\n",
    "\n",
    "# Get the article text\n",
    "article = []\n",
    "for page_number, page_data in enumerate(doc):\n",
    "    txt = pytesseract.image_to_string(page_data).encode(\"utf-8\")\n",
    "    # Sixth page are only references\n",
    "    if page_number < 6:\n",
    "      article.append(txt.decode(\"utf-8\"))\n",
    "article_txt = \" \".join(article)"
   ]
  },
  {
   "cell_type": "markdown",
   "id": "9f53642a",
   "metadata": {},
   "source": [
    "## Text preprocessing\n",
    "\n",
    "* Remove section titles and figure descriptions.\n",
    "* Split the text into sentences."
   ]
  },
  {
   "cell_type": "code",
   "execution_count": 4,
   "id": "e714d19b",
   "metadata": {},
   "outputs": [
    {
     "name": "stderr",
     "output_type": "stream",
     "text": [
      "[nltk_data] Downloading package punkt to /home/lawrence/nltk_data...\n",
      "[nltk_data]   Package punkt is already up-to-date!\n"
     ]
    },
    {
     "data": {
      "text/plain": [
       "True"
      ]
     },
     "execution_count": 4,
     "metadata": {},
     "output_type": "execute_result"
    }
   ],
   "source": [
    "import nltk\n",
    "nltk.download('punkt')"
   ]
  },
  {
   "cell_type": "code",
   "execution_count": 5,
   "id": "75b4f244",
   "metadata": {},
   "outputs": [],
   "source": [
    "def clean_text(text):\n",
    "  \"\"\"Remove section titles and figure descriptions from text\"\"\"\n",
    "  clean = \"\\n\".join([row for row in text.split(\"\\n\") if (len(row.split(\" \"))) > 3 and not (row.startswith(\"(a)\"))\n",
    "                    and not row.startswith(\"Figure\")])\n",
    "  return clean"
   ]
  },
  {
   "cell_type": "code",
   "execution_count": 6,
   "id": "eb4c2ad9",
   "metadata": {},
   "outputs": [],
   "source": [
    "text = article_txt.split(\"INTRODUCTION\")[1]\n",
    "ctext = clean_text(text)\n",
    "sentences = nltk.tokenize.sent_tokenize(ctext)"
   ]
  },
  {
   "cell_type": "markdown",
   "id": "326a0b3c",
   "metadata": {},
   "source": [
    "## Biomedical named entity linking"
   ]
  },
  {
   "cell_type": "markdown",
   "id": "a1d1444b",
   "metadata": {},
   "source": [
    "Named entity recognition techniques are used to detect relevant entities or concepts in the text. For example, in the biomedical domain, we want to identify various genes, drugs, diseases, and other concepts in the text.\n",
    "\n",
    "An upgrade to the named entity recognition is the so-called named entity linking. The named entity linking technique detects relevant concepts in the text and tries to map them to the target knowledge base. In the biomedical domain, some of the target knowledge bases are:\n",
    "\n",
    "* MESH\n",
    "* CHEBI\n",
    "* OMIM\n",
    "* ENSEMBL\n",
    "\n",
    "Why would we want to link medical entities to a target knowledge base? The primary reason is that it helps us deal with entity disambiguation. For example, we don't want separate entities in the graph representing ascorbic acid and vitamin C as domain experts can tell you those are the same thing. The secondary reason is that by mapping concepts to a target knowledge base, we can enrich our graph model by fetching information about the mapped concepts from the target knowledge base. If we use the ascorbic acid example again, we could easily fetch additional information from the CHEBI database if we already know its CHEBI id.\n",
    "\n",
    "I've been looking for a decent open-source pre-trained biomedical named entity linking for some time. Lots of NLP models focus on extracting only a specific subset of medical concepts like genes or diseases. It is even rarer to find a model that detects most medical concepts and links them to a target knowledge base. Luckily I've stumbled upon BERN[1], a neural biomedical entity recognition and multi-type normalization tool. If I understand correctly, it is a fine-tuned BioBert model with various named entity linking models integrated for mapping concepts to biomedical target knowledge bases. Not only that, but they also provide a free REST endpoint, so we don't have to deal with the headache of getting the dependencies and the model to work. The biomedical named entity recognition visualization I've used above was created using the BERN model, so we know it detects genes, diseases, drugs, species, mutations, and pathways in the text. Unfortunately, the BERN model does not assign target knowledge base ids to all concepts. So I've prepared a script that first looks if a distinct id is given for a concept, and if it is not, it will use the entity name as the id. We will also compute the sha256 of the text of sentences to identify specific sentences easier later when we will be doing relation extraction."
   ]
  },
  {
   "cell_type": "code",
   "execution_count": 7,
   "id": "64ceff72",
   "metadata": {
    "tags": []
   },
   "outputs": [],
   "source": [
    "import hashlib\n",
    "\n",
    "import warnings\n",
    "warnings.filterwarnings(\"ignore\")"
   ]
  },
  {
   "cell_type": "code",
   "execution_count": 8,
   "id": "1f56c78e",
   "metadata": {
    "tags": []
   },
   "outputs": [],
   "source": [
    "def query_raw(text, url=\"https://bern.korea.ac.kr/plain\"):\n",
    "    return requests.post(url, data={'sample_text': text}, verify=False).json()"
   ]
  },
  {
   "cell_type": "code",
   "execution_count": 9,
   "id": "ed30e8b5",
   "metadata": {},
   "outputs": [],
   "source": [
    "entity_list = []\n",
    "# The last sentence is invalid\n",
    "for s in sentences[:-1]:\n",
    "  entity_list.append(query_raw(s))"
   ]
  },
  {
   "cell_type": "code",
   "execution_count": 10,
   "id": "c8c70d7e",
   "metadata": {},
   "outputs": [],
   "source": [
    "parsed_entities = []\n",
    "for entities in entity_list:\n",
    "  e = []\n",
    "  # If there are not entities in the text\n",
    "  if not entities.get('denotations'):\n",
    "    parsed_entities.append({'text':entities['text'], 'text_sha256': hashlib.sha256(entities['text'].encode('utf-8')).hexdigest()})\n",
    "    continue\n",
    "  for entity in entities['denotations']:\n",
    "    other_ids = [id for id in entity['id'] if not id.startswith(\"BERN\")]\n",
    "    entity_type = entity['obj']\n",
    "    entity_name = entities['text'][entity['span']['begin']:entity['span']['end']]\n",
    "    try:\n",
    "      entity_id = [id for id in entity['id'] if id.startswith(\"BERN\")][0]\n",
    "    except IndexError:\n",
    "      entity_id = entity_name\n",
    "    e.append({'entity_id': entity_id, 'other_ids': other_ids, 'entity_type': entity_type, 'entity': entity_name})\n",
    "  parsed_entities.append({'entities':e, 'text':entities['text'], 'text_sha256': hashlib.sha256(entities['text'].encode('utf-8')).hexdigest()})"
   ]
  },
  {
   "cell_type": "markdown",
   "id": "219dafa5",
   "metadata": {},
   "source": [
    "t## Construct a knowledge graph"
   ]
  },
  {
   "cell_type": "markdown",
   "id": "53546c58",
   "metadata": {},
   "source": [
    "Use a free Neo4j Sandbox instance.\n",
    "\n",
    "Start a blank project in the sandbox and copy the connection details."
   ]
  },
  {
   "cell_type": "code",
   "execution_count": 11,
   "id": "595f918b",
   "metadata": {},
   "outputs": [],
   "source": [
    "from neo4j import GraphDatabase\n",
    "import pandas as pd"
   ]
  },
  {
   "cell_type": "code",
   "execution_count": 12,
   "id": "e24aa2a7",
   "metadata": {},
   "outputs": [],
   "source": [
    "host = 'bolt://34.201.47.155:7687'\n",
    "user = 'neo4j'\n",
    "password = 'light-nations-substitutes'\n",
    "driver = GraphDatabase.driver(host,auth=(user, password))"
   ]
  },
  {
   "cell_type": "code",
   "execution_count": 13,
   "id": "0e779155",
   "metadata": {},
   "outputs": [],
   "source": [
    "def neo4j_query(query, params=None):\n",
    "    with driver.session() as session:\n",
    "        result = session.run(query, params)\n",
    "        return pd.DataFrame([r.values() for r in result], columns=result.keys())"
   ]
  },
  {
   "cell_type": "markdown",
   "id": "7f60c388",
   "metadata": {},
   "source": [
    "We will start by importing the author and the article into the graph. The article node will contain only the title."
   ]
  },
  {
   "cell_type": "code",
   "execution_count": 14,
   "id": "fcc66539",
   "metadata": {},
   "outputs": [
    {
     "data": {
      "text/html": [
       "<div>\n",
       "<style scoped>\n",
       "    .dataframe tbody tr th:only-of-type {\n",
       "        vertical-align: middle;\n",
       "    }\n",
       "\n",
       "    .dataframe tbody tr th {\n",
       "        vertical-align: top;\n",
       "    }\n",
       "\n",
       "    .dataframe thead th {\n",
       "        text-align: right;\n",
       "    }\n",
       "</style>\n",
       "<table border=\"1\" class=\"dataframe\">\n",
       "  <thead>\n",
       "    <tr style=\"text-align: right;\">\n",
       "      <th></th>\n",
       "    </tr>\n",
       "  </thead>\n",
       "  <tbody>\n",
       "  </tbody>\n",
       "</table>\n",
       "</div>"
      ],
      "text/plain": [
       "Empty DataFrame\n",
       "Columns: []\n",
       "Index: []"
      ]
     },
     "execution_count": 14,
     "metadata": {},
     "output_type": "execute_result"
    }
   ],
   "source": [
    "author = article_txt.split(\"\\n\")[0]\n",
    "title = \" \".join(article_txt.split(\"\\n\")[2:4])\n",
    "\n",
    "neo4j_query(\"\"\"\n",
    "MERGE (a:Author{name:$author})\n",
    "MERGE (b:Article{title:$title})\n",
    "MERGE (a)-[:WROTE]->(b)\n",
    "\"\"\", {'title':title, 'author':author})"
   ]
  },
  {
   "cell_type": "markdown",
   "id": "9abea67c",
   "metadata": {},
   "source": [
    "Import the sentences and mentioned entities by executing the following Cypher query:"
   ]
  },
  {
   "cell_type": "code",
   "execution_count": 15,
   "id": "2c9a623d",
   "metadata": {},
   "outputs": [
    {
     "data": {
      "text/html": [
       "<div>\n",
       "<style scoped>\n",
       "    .dataframe tbody tr th:only-of-type {\n",
       "        vertical-align: middle;\n",
       "    }\n",
       "\n",
       "    .dataframe tbody tr th {\n",
       "        vertical-align: top;\n",
       "    }\n",
       "\n",
       "    .dataframe thead th {\n",
       "        text-align: right;\n",
       "    }\n",
       "</style>\n",
       "<table border=\"1\" class=\"dataframe\">\n",
       "  <thead>\n",
       "    <tr style=\"text-align: right;\">\n",
       "      <th></th>\n",
       "    </tr>\n",
       "  </thead>\n",
       "  <tbody>\n",
       "  </tbody>\n",
       "</table>\n",
       "</div>"
      ],
      "text/plain": [
       "Empty DataFrame\n",
       "Columns: []\n",
       "Index: []"
      ]
     },
     "execution_count": 15,
     "metadata": {},
     "output_type": "execute_result"
    }
   ],
   "source": [
    "neo4j_query(\"\"\"\n",
    "MATCH (a:Article)\n",
    "UNWIND $data as row\n",
    "MERGE (s:Sentence{id:row.text_sha256})\n",
    "SET s.text = row.text\n",
    "MERGE (a)-[:HAS_SENTENCE]->(s)\n",
    "WITH s, row.entities as entities\n",
    "UNWIND entities as entity\n",
    "MERGE (e:Entity{id:entity.entity_id})\n",
    "ON CREATE SET e.other_ids = entity.other_ids,\n",
    "              e.name = entity.entity,\n",
    "              e.type = entity.entity_type\n",
    "MERGE (s)-[m:MENTIONS]->(e)\n",
    "ON CREATE SET m.count = 1\n",
    "ON MATCH SET m.count = m.count + 1\n",
    "\"\"\", {'data': parsed_entities})"
   ]
  },
  {
   "cell_type": "markdown",
   "id": "da3c6279",
   "metadata": {},
   "source": [
    "## Knowledge graph applications"
   ]
  },
  {
   "cell_type": "markdown",
   "id": "2f2f0e95",
   "metadata": {},
   "source": [
    "Even without the relation extraction flow, there are already a couple of use-cases for our graph.\n"
   ]
  },
  {
   "cell_type": "markdown",
   "id": "71e3995a",
   "metadata": {},
   "source": [
    "### Search engine\n",
    "\n",
    "We could use our graph as a search engine. For example, you could use the following Cypher query to find sentences or articles that mention a specific medical entity."
   ]
  },
  {
   "cell_type": "code",
   "execution_count": 16,
   "id": "dd3e9b53",
   "metadata": {},
   "outputs": [
    {
     "data": {
      "text/html": [
       "<div>\n",
       "<style scoped>\n",
       "    .dataframe tbody tr th:only-of-type {\n",
       "        vertical-align: middle;\n",
       "    }\n",
       "\n",
       "    .dataframe tbody tr th {\n",
       "        vertical-align: top;\n",
       "    }\n",
       "\n",
       "    .dataframe thead th {\n",
       "        text-align: right;\n",
       "    }\n",
       "</style>\n",
       "<table border=\"1\" class=\"dataframe\">\n",
       "  <thead>\n",
       "    <tr style=\"text-align: right;\">\n",
       "      <th></th>\n",
       "      <th>result</th>\n",
       "    </tr>\n",
       "  </thead>\n",
       "  <tbody>\n",
       "    <tr>\n",
       "      <th>0</th>\n",
       "      <td>These cells, later found to be hematopoietic s...</td>\n",
       "    </tr>\n",
       "  </tbody>\n",
       "</table>\n",
       "</div>"
      ],
      "text/plain": [
       "                                              result\n",
       "0  These cells, later found to be hematopoietic s..."
      ]
     },
     "execution_count": 16,
     "metadata": {},
     "output_type": "execute_result"
    }
   ],
   "source": [
    "neo4j_query(\"\"\"\n",
    "MATCH (e:Entity)<-[:MENTIONS]-(s:Sentence)\n",
    "WHERE e.name = \"autoimmune diseases\"\n",
    "RETURN s.text as result\n",
    "\"\"\")"
   ]
  },
  {
   "cell_type": "markdown",
   "id": "6fc82024",
   "metadata": {},
   "source": [
    "### Co-occurrence analysis\n",
    "You could define co-occurrence between medical entities if they appear in the same sentence or article. I've found an article[2] that uses the medical co-occurrence network to predict new possible connections between medical entities.\n",
    "Link prediction in a MeSH co-occurrence network: preliminary results - PubMed\n",
    "Literature-based discovery (LBD) refers to automatic discovery of implicit relations from the scientific literature.\n",
    "You could use the following Cypher query to find entities that often co-occur in the same sentence."
   ]
  },
  {
   "cell_type": "code",
   "execution_count": 17,
   "id": "60b03681",
   "metadata": {},
   "outputs": [
    {
     "data": {
      "text/html": [
       "<div>\n",
       "<style scoped>\n",
       "    .dataframe tbody tr th:only-of-type {\n",
       "        vertical-align: middle;\n",
       "    }\n",
       "\n",
       "    .dataframe tbody tr th {\n",
       "        vertical-align: top;\n",
       "    }\n",
       "\n",
       "    .dataframe thead th {\n",
       "        text-align: right;\n",
       "    }\n",
       "</style>\n",
       "<table border=\"1\" class=\"dataframe\">\n",
       "  <thead>\n",
       "    <tr style=\"text-align: right;\">\n",
       "      <th></th>\n",
       "      <th>entity1</th>\n",
       "      <th>entity2</th>\n",
       "      <th>cooccurrence</th>\n",
       "    </tr>\n",
       "  </thead>\n",
       "  <tbody>\n",
       "    <tr>\n",
       "      <th>0</th>\n",
       "      <td>skin diseases</td>\n",
       "      <td>diabetic ulcers</td>\n",
       "      <td>2</td>\n",
       "    </tr>\n",
       "    <tr>\n",
       "      <th>1</th>\n",
       "      <td>chronic wounds</td>\n",
       "      <td>diabetic ulcers</td>\n",
       "      <td>2</td>\n",
       "    </tr>\n",
       "    <tr>\n",
       "      <th>2</th>\n",
       "      <td>skin diseases</td>\n",
       "      <td>chronic wounds</td>\n",
       "      <td>2</td>\n",
       "    </tr>\n",
       "  </tbody>\n",
       "</table>\n",
       "</div>"
      ],
      "text/plain": [
       "          entity1          entity2  cooccurrence\n",
       "0   skin diseases  diabetic ulcers             2\n",
       "1  chronic wounds  diabetic ulcers             2\n",
       "2   skin diseases   chronic wounds             2"
      ]
     },
     "execution_count": 17,
     "metadata": {},
     "output_type": "execute_result"
    }
   ],
   "source": [
    "neo4j_query(\"\"\"\n",
    "MATCH (e1:Entity)<-[:MENTIONS]-()-[:MENTIONS]->(e2:Entity)\n",
    "WHERE id(e1) < id(e2)\n",
    "RETURN e1.name as entity1, e2.name as entity2, count(*) as cooccurrence\n",
    "ORDER BY cooccurrence\n",
    "DESC LIMIT 3\n",
    "\"\"\")"
   ]
  },
  {
   "cell_type": "markdown",
   "id": "33aa894d",
   "metadata": {},
   "source": [
    "### Inspect author expertise\n",
    "\n",
    "You could also use this graph to find the author's expertise by examining the medical entities they most frequently write about. With this information, you could also suggest future collaborations.\n",
    "Execute the following Cypher query to inspect which medical entities our single author mentioned in the research paper."
   ]
  },
  {
   "cell_type": "code",
   "execution_count": 18,
   "id": "1d599a61",
   "metadata": {},
   "outputs": [
    {
     "data": {
      "text/html": [
       "<div>\n",
       "<style scoped>\n",
       "    .dataframe tbody tr th:only-of-type {\n",
       "        vertical-align: middle;\n",
       "    }\n",
       "\n",
       "    .dataframe tbody tr th {\n",
       "        vertical-align: top;\n",
       "    }\n",
       "\n",
       "    .dataframe thead th {\n",
       "        text-align: right;\n",
       "    }\n",
       "</style>\n",
       "<table border=\"1\" class=\"dataframe\">\n",
       "  <thead>\n",
       "    <tr style=\"text-align: right;\">\n",
       "      <th></th>\n",
       "      <th>author</th>\n",
       "      <th>entity</th>\n",
       "      <th>count</th>\n",
       "    </tr>\n",
       "  </thead>\n",
       "  <tbody>\n",
       "    <tr>\n",
       "      <th>0</th>\n",
       "      <td>Mohammadreza Ahmadi</td>\n",
       "      <td>collagen</td>\n",
       "      <td>9</td>\n",
       "    </tr>\n",
       "    <tr>\n",
       "      <th>1</th>\n",
       "      <td>Mohammadreza Ahmadi</td>\n",
       "      <td>burns</td>\n",
       "      <td>4</td>\n",
       "    </tr>\n",
       "    <tr>\n",
       "      <th>2</th>\n",
       "      <td>Mohammadreza Ahmadi</td>\n",
       "      <td>skin diseases</td>\n",
       "      <td>4</td>\n",
       "    </tr>\n",
       "    <tr>\n",
       "      <th>3</th>\n",
       "      <td>Mohammadreza Ahmadi</td>\n",
       "      <td>collagenase enzymes</td>\n",
       "      <td>2</td>\n",
       "    </tr>\n",
       "    <tr>\n",
       "      <th>4</th>\n",
       "      <td>Mohammadreza Ahmadi</td>\n",
       "      <td>Epidermolysis bullosa</td>\n",
       "      <td>2</td>\n",
       "    </tr>\n",
       "  </tbody>\n",
       "</table>\n",
       "</div>"
      ],
      "text/plain": [
       "                author                 entity  count\n",
       "0  Mohammadreza Ahmadi               collagen      9\n",
       "1  Mohammadreza Ahmadi                  burns      4\n",
       "2  Mohammadreza Ahmadi          skin diseases      4\n",
       "3  Mohammadreza Ahmadi    collagenase enzymes      2\n",
       "4  Mohammadreza Ahmadi  Epidermolysis bullosa      2"
      ]
     },
     "execution_count": 18,
     "metadata": {},
     "output_type": "execute_result"
    }
   ],
   "source": [
    "neo4j_query(\"\"\"\n",
    "MATCH (a:Author)-[:WROTE]->()-[:HAS_SENTENCE]->()-[:MENTIONS]->(e:Entity)\n",
    "RETURN a.name as author, e.name as entity, count(*) as count\n",
    "ORDER BY count DESC\n",
    "LIMIT 5\n",
    "\"\"\")"
   ]
  },
  {
   "cell_type": "markdown",
   "id": "ac9f3ed9",
   "metadata": {},
   "source": [
    "## Relation extraction"
   ]
  },
  {
   "cell_type": "markdown",
   "id": "e5dca2dc",
   "metadata": {},
   "source": [
    "Now we will try to extract relations between medical concepts. From my experience, the relation extraction is at least an order of magnitude harder than named entity extraction. If you shouldn't expect perfect results with named entity linking, then you can definitely expect some mistakes with the relation extraction technique.\n",
    "\n",
    "I've been looking for available biomedical relation extraction models but found nothing that works out of the box or doesn't require fine-tuning. It seems that the field of relation extraction is at the cutting edge, and hopefully, we'll see more attention about it in the future. Unfortunately, I'm not an NLP expert, so I avoided fine-tuning my own model. Instead, we will be using the zero-shot relation extractor based on the paper Exploring the zero-shot limit of FewRel[3]. While I wouldn't recommend to put this model into production, it is good enough for a simple demonstration. The model is available on HuggingFace, so we don't have to deal with training or setting up the model."
   ]
  },
  {
   "cell_type": "code",
   "execution_count": 22,
   "id": "d8bbd583",
   "metadata": {},
   "outputs": [],
   "source": [
    "from transformers import AutoTokenizer\n",
    "from zero_shot_re import RelTaggerModel, RelationExtractor"
   ]
  },
  {
   "cell_type": "code",
   "execution_count": 23,
   "id": "d55bd31f",
   "metadata": {},
   "outputs": [
    {
     "data": {
      "application/vnd.jupyter.widget-view+json": {
       "model_id": "192dc831b80346d3bc0b78e4e9840c54",
       "version_major": 2,
       "version_minor": 0
      },
      "text/plain": [
       "Downloading:   0%|          | 0.00/1.34G [00:00<?, ?B/s]"
      ]
     },
     "metadata": {},
     "output_type": "display_data"
    }
   ],
   "source": [
    "model = RelTaggerModel.from_pretrained(\"fractalego/fewrel-zero-shot\")"
   ]
  },
  {
   "cell_type": "code",
   "execution_count": 24,
   "id": "33d4aa07",
   "metadata": {},
   "outputs": [
    {
     "data": {
      "application/vnd.jupyter.widget-view+json": {
       "model_id": "0af5e732417e4fed993620575f422eeb",
       "version_major": 2,
       "version_minor": 0
      },
      "text/plain": [
       "Downloading:   0%|          | 0.00/28.0 [00:00<?, ?B/s]"
      ]
     },
     "metadata": {},
     "output_type": "display_data"
    },
    {
     "data": {
      "application/vnd.jupyter.widget-view+json": {
       "model_id": "1c69aa8f65014195b65d53313c49799a",
       "version_major": 2,
       "version_minor": 0
      },
      "text/plain": [
       "Downloading:   0%|          | 0.00/232k [00:00<?, ?B/s]"
      ]
     },
     "metadata": {},
     "output_type": "display_data"
    },
    {
     "data": {
      "application/vnd.jupyter.widget-view+json": {
       "model_id": "51841a1de235450b93c5ebf173d96aca",
       "version_major": 2,
       "version_minor": 0
      },
      "text/plain": [
       "Downloading:   0%|          | 0.00/466k [00:00<?, ?B/s]"
      ]
     },
     "metadata": {},
     "output_type": "display_data"
    }
   ],
   "source": [
    "tokenizer = AutoTokenizer.from_pretrained(\"bert-large-uncased-whole-word-masking-finetuned-squad\")"
   ]
  },
  {
   "cell_type": "code",
   "execution_count": 25,
   "id": "41003c89",
   "metadata": {},
   "outputs": [],
   "source": [
    "relations = ['associated', 'interacts']\n",
    "extractor = RelationExtractor(model, tokenizer, relations)"
   ]
  },
  {
   "cell_type": "markdown",
   "id": "62f8edd7",
   "metadata": {},
   "source": [
    "With the zero-shot relation extractor, you can define which relations you would like to detect. In this example, I've used the associated and interacts relationships. I've also tried more specific relationship types such as treats, causes, and others, but the results were not great.\n",
    "\n",
    "With this model, you have to define between which pairs of entities you would like to detect relationships. We will use the results of the named entity linking as an input to the relation extraction process. First, we find all the sentences where two or more entities are mentioned and then run them through the relation extraction model to extract any connections. I've also defined a threshold value of 0.85, meaning that if a model predicts a link between entities with a probability lower than 0.85, we'll ignore the prediction."
   ]
  },
  {
   "cell_type": "code",
   "execution_count": 26,
   "id": "382e256a",
   "metadata": {},
   "outputs": [],
   "source": [
    "import itertools"
   ]
  },
  {
   "cell_type": "code",
   "execution_count": 27,
   "id": "d0f5e775",
   "metadata": {},
   "outputs": [],
   "source": [
    "# Candidate sentence where there is more than a single entity present\n",
    "candidates = [s for s in parsed_entities if (s.get('entities')) and (len(s['entities']) > 1)]\n",
    "predicted_rels = []\n",
    "for c in candidates:\n",
    "  combinations = itertools.combinations([{'name':x['entity'], 'id':x['entity_id']} for x in c['entities']], 2)\n",
    "  for combination in list(combinations):\n",
    "    try:\n",
    "      ranked_rels = extractor.rank(text=c['text'].replace(\",\", \" \"), head=combination[0]['name'], tail=combination[1]['name'])\n",
    "      # Define threshold for the most probable relation\n",
    "      if ranked_rels[0][1] > 0.85:\n",
    "        predicted_rels.append({'head': combination[0]['id'], 'tail': combination[1]['id'], 'type':ranked_rels[0][0], 'source': c['text_sha256']})\n",
    "    except:\n",
    "      pass"
   ]
  },
  {
   "cell_type": "code",
   "execution_count": 28,
   "id": "3c9bdcd2",
   "metadata": {},
   "outputs": [
    {
     "data": {
      "text/html": [
       "<div>\n",
       "<style scoped>\n",
       "    .dataframe tbody tr th:only-of-type {\n",
       "        vertical-align: middle;\n",
       "    }\n",
       "\n",
       "    .dataframe tbody tr th {\n",
       "        vertical-align: top;\n",
       "    }\n",
       "\n",
       "    .dataframe thead th {\n",
       "        text-align: right;\n",
       "    }\n",
       "</style>\n",
       "<table border=\"1\" class=\"dataframe\">\n",
       "  <thead>\n",
       "    <tr style=\"text-align: right;\">\n",
       "      <th></th>\n",
       "    </tr>\n",
       "  </thead>\n",
       "  <tbody>\n",
       "  </tbody>\n",
       "</table>\n",
       "</div>"
      ],
      "text/plain": [
       "Empty DataFrame\n",
       "Columns: []\n",
       "Index: []"
      ]
     },
     "execution_count": 28,
     "metadata": {},
     "output_type": "execute_result"
    }
   ],
   "source": [
    "neo4j_query(\"\"\"\n",
    "UNWIND $data as row\n",
    "MATCH (source:Entity {id: row.head})\n",
    "MATCH (target:Entity {id: row.tail})\n",
    "MATCH (text:Sentence {id: row.source})\n",
    "MERGE (source)-[:REL]->(r:Relation {type: row.type})-[:REL]->(target)\n",
    "MERGE (text)-[:MENTIONS]->(r)\n",
    "\"\"\", {'data': predicted_rels})"
   ]
  },
  {
   "cell_type": "markdown",
   "id": "fb9ba99d",
   "metadata": {},
   "source": [
    "You can examine the extracted relationships between entities and the source text with the following Cypher query:"
   ]
  },
  {
   "cell_type": "code",
   "execution_count": 29,
   "id": "b457d836",
   "metadata": {},
   "outputs": [
    {
     "data": {
      "text/html": [
       "<div>\n",
       "<style scoped>\n",
       "    .dataframe tbody tr th:only-of-type {\n",
       "        vertical-align: middle;\n",
       "    }\n",
       "\n",
       "    .dataframe tbody tr th {\n",
       "        vertical-align: top;\n",
       "    }\n",
       "\n",
       "    .dataframe thead th {\n",
       "        text-align: right;\n",
       "    }\n",
       "</style>\n",
       "<table border=\"1\" class=\"dataframe\">\n",
       "  <thead>\n",
       "    <tr style=\"text-align: right;\">\n",
       "      <th></th>\n",
       "      <th>source_entity</th>\n",
       "      <th>target_entity</th>\n",
       "      <th>type</th>\n",
       "      <th>source_text</th>\n",
       "    </tr>\n",
       "  </thead>\n",
       "  <tbody>\n",
       "    <tr>\n",
       "      <th>0</th>\n",
       "      <td>skin diseases</td>\n",
       "      <td>chronic wounds</td>\n",
       "      <td>associated</td>\n",
       "      <td>Many people with skin diseases such as chronic...</td>\n",
       "    </tr>\n",
       "    <tr>\n",
       "      <th>1</th>\n",
       "      <td>skin diseases</td>\n",
       "      <td>diabetic ulcers</td>\n",
       "      <td>associated</td>\n",
       "      <td>Many people with skin diseases such as chronic...</td>\n",
       "    </tr>\n",
       "    <tr>\n",
       "      <th>2</th>\n",
       "      <td>leukemia</td>\n",
       "      <td>autoimmune diseases</td>\n",
       "      <td>associated</td>\n",
       "      <td>These cells, later found to be hematopoietic s...</td>\n",
       "    </tr>\n",
       "    <tr>\n",
       "      <th>3</th>\n",
       "      <td>ADSCs</td>\n",
       "      <td>DFs proteins</td>\n",
       "      <td>interacts</td>\n",
       "      <td>Furthermore, the primary sources of extracellu...</td>\n",
       "    </tr>\n",
       "  </tbody>\n",
       "</table>\n",
       "</div>"
      ],
      "text/plain": [
       "   source_entity        target_entity        type  \\\n",
       "0  skin diseases       chronic wounds  associated   \n",
       "1  skin diseases      diabetic ulcers  associated   \n",
       "2       leukemia  autoimmune diseases  associated   \n",
       "3          ADSCs         DFs proteins   interacts   \n",
       "\n",
       "                                         source_text  \n",
       "0  Many people with skin diseases such as chronic...  \n",
       "1  Many people with skin diseases such as chronic...  \n",
       "2  These cells, later found to be hematopoietic s...  \n",
       "3  Furthermore, the primary sources of extracellu...  "
      ]
     },
     "execution_count": 29,
     "metadata": {},
     "output_type": "execute_result"
    }
   ],
   "source": [
    "neo4j_query(\"\"\"\n",
    "MATCH (s:Entity)-[:REL]->(r:Relation)-[:REL]->(t:Entity), (r)<-[:MENTIONS]-(st:Sentence)\n",
    "RETURN s.name as source_entity, t.name as target_entity, r.type as type, st.text as source_text\n",
    "\"\"\")"
   ]
  },
  {
   "cell_type": "markdown",
   "id": "85cbe2a9",
   "metadata": {},
   "source": [
    "## External database enrichment"
   ]
  },
  {
   "cell_type": "markdown",
   "id": "28a89825",
   "metadata": {},
   "source": [
    "As I mentioned before, we can still use the external databases like CHEBI or MESH to enrich our graph. For example, our graph contains a medical entity Epidermolysis bullosa and we also know its MeSH id.\n",
    "\n",
    "The Cypher query to fetch the information from MeSH REST endpoint is:"
   ]
  },
  {
   "cell_type": "code",
   "execution_count": 30,
   "id": "753b8b73",
   "metadata": {},
   "outputs": [
    {
     "data": {
      "text/html": [
       "<div>\n",
       "<style scoped>\n",
       "    .dataframe tbody tr th:only-of-type {\n",
       "        vertical-align: middle;\n",
       "    }\n",
       "\n",
       "    .dataframe tbody tr th {\n",
       "        vertical-align: top;\n",
       "    }\n",
       "\n",
       "    .dataframe thead th {\n",
       "        text-align: right;\n",
       "    }\n",
       "</style>\n",
       "<table border=\"1\" class=\"dataframe\">\n",
       "  <thead>\n",
       "    <tr style=\"text-align: right;\">\n",
       "      <th></th>\n",
       "      <th>value</th>\n",
       "    </tr>\n",
       "  </thead>\n",
       "  <tbody>\n",
       "    <tr>\n",
       "      <th>0</th>\n",
       "      <td>{'qualifiers': [{'resource': 'http://id.nlm.ni...</td>\n",
       "    </tr>\n",
       "  </tbody>\n",
       "</table>\n",
       "</div>"
      ],
      "text/plain": [
       "                                               value\n",
       "0  {'qualifiers': [{'resource': 'http://id.nlm.ni..."
      ]
     },
     "execution_count": 30,
     "metadata": {},
     "output_type": "execute_result"
    }
   ],
   "source": [
    "# mesh enrichment\n",
    "neo4j_query(\"\"\"\n",
    "MATCH (e:Entity)\n",
    "WHERE e.name = \"Epidermolysis bullosa\"\n",
    "WITH e,\n",
    "    [id in e.other_ids WHERE id contains \"MESH\" | split(id,\":\")[1]][0] as meshId\n",
    "CALL apoc.load.json(\"https://id.nlm.nih.gov/mesh/lookup/details?descriptor=\" + meshId) YIELD value\n",
    "RETURN value\n",
    "\"\"\")"
   ]
  },
  {
   "cell_type": "markdown",
   "id": "59ed5fd0",
   "metadata": {},
   "source": [
    "## Knowledge graph as machine learning data input"
   ]
  },
  {
   "cell_type": "markdown",
   "id": "66a69617",
   "metadata": {},
   "source": [
    "As a final thought, I will quickly walk you through how you could use the biomedical knowledge graph as an input to a machine learning workflow. In recent years, there has been a lot of research and advancement in the node embedding field. Node embedding models translate the network topology into embedding space.\n",
    "\n",
    "Suppose you constructed a biomedical knowledge graph containing medical entities and concepts, their relations, and enrichment from various medical databases. You could use node embedding techniques to learn the node representations, which are fixed-length vectors, and input them into your machine learning workflow. Various applications are using this approach ranging from drug repurposing to drug side or adverse effect predictions. I've found a research paper that uses link prediction for potential treatments of new diseases[4]."
   ]
  },
  {
   "cell_type": "code",
   "execution_count": null,
   "id": "3f482e19",
   "metadata": {},
   "outputs": [],
   "source": []
  },
  {
   "cell_type": "code",
   "execution_count": null,
   "id": "2d4f78d3",
   "metadata": {},
   "outputs": [],
   "source": []
  },
  {
   "cell_type": "code",
   "execution_count": null,
   "id": "bd8db723",
   "metadata": {},
   "outputs": [],
   "source": []
  },
  {
   "cell_type": "code",
   "execution_count": null,
   "id": "b394ed05",
   "metadata": {},
   "outputs": [],
   "source": []
  },
  {
   "cell_type": "code",
   "execution_count": null,
   "id": "18fc458e",
   "metadata": {},
   "outputs": [],
   "source": []
  },
  {
   "cell_type": "code",
   "execution_count": null,
   "id": "0e8f0ac1",
   "metadata": {},
   "outputs": [],
   "source": []
  }
 ],
 "metadata": {
  "kernelspec": {
   "display_name": "Python 3 (ipykernel)",
   "language": "python",
   "name": "python3"
  },
  "language_info": {
   "codemirror_mode": {
    "name": "ipython",
    "version": 3
   },
   "file_extension": ".py",
   "mimetype": "text/x-python",
   "name": "python",
   "nbconvert_exporter": "python",
   "pygments_lexer": "ipython3",
   "version": "3.9.6"
  },
  "toc-autonumbering": true,
  "toc-showcode": false,
  "toc-showmarkdowntxt": false,
  "toc-showtags": true
 },
 "nbformat": 4,
 "nbformat_minor": 5
}
